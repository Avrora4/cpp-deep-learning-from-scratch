{
  "nbformat": 4,
  "nbformat_minor": 0,
  "metadata": {
    "colab": {
      "provenance": [],
      "gpuType": "T4"
    },
    "kernelspec": {
      "name": "python3",
      "display_name": "Python 3"
    },
    "language_info": {
      "name": "python"
    },
    "accelerator": "GPU"
  },
  "cells": [
    {
      "cell_type": "code",
      "execution_count": 10,
      "metadata": {
        "colab": {
          "base_uri": "https://localhost:8080/"
        },
        "id": "aoISkNDHRDJ6",
        "outputId": "60028e4b-f1a8-47aa-acbd-d55a5dd564cd"
      },
      "outputs": [
        {
          "output_type": "stream",
          "name": "stdout",
          "text": [
            "Overwriting hello_notebook.cpp\n"
          ]
        }
      ],
      "source": [
        "%%writefile hello_notebook.cpp\n",
        "#include <iostream>\n",
        "\n",
        "int main()\n",
        "{\n",
        "    std::cout << \"Hello\" << std::endl;\n",
        "\n",
        "    return 0;\n",
        "}"
      ]
    },
    {
      "cell_type": "code",
      "source": [
        "# compile\n",
        "!g++ hello_notebook.cpp -o hello_notebook"
      ],
      "metadata": {
        "id": "ozo7kt3wSHgD"
      },
      "execution_count": 11,
      "outputs": []
    },
    {
      "cell_type": "code",
      "source": [
        "!./hello_notebook"
      ],
      "metadata": {
        "colab": {
          "base_uri": "https://localhost:8080/"
        },
        "id": "jPQtZ5AsSyHG",
        "outputId": "f8f54ca0-8cb7-4dde-9d1e-55c4f5f9f1fa"
      },
      "execution_count": 12,
      "outputs": [
        {
          "output_type": "stream",
          "name": "stdout",
          "text": [
            "/bin/bash: line 1: ./hello: No such file or directory\n"
          ]
        }
      ]
    },
    {
      "cell_type": "code",
      "source": [
        "%%writefile hello_cuda.cu\n",
        "#include <stdio.h>\n",
        "\n",
        "__global__ void add(int *a, int *b, int *c)\n",
        "{\n",
        "    *c = *a + *b;\n",
        "}\n",
        "\n",
        "int main()\n",
        "{\n",
        "    int a = 2;\n",
        "    int b = 7;\n",
        "    int c;\n",
        "    int *d_a, *d_b, *d_c;\n",
        "\n",
        "    // Allocate device memory\n",
        "    cudaMalloc((void**)&d_a, sizeof(int));\n",
        "    cudaMalloc((void**)&d_b, sizeof(int));\n",
        "    cudaMalloc((void**)&d_c, sizeof(int));\n",
        "\n",
        "    // Copy inputs to device\n",
        "    cudaMemcpy(d_a, &a, sizeof(int), cudaMemcpyHostToDevice);\n",
        "    cudaMemcpy(d_b, &b, sizeof(int), cudaMemcpyHostToDevice);\n",
        "\n",
        "    // Launch kernel\n",
        "    add<<<1,1>>>(&a,&b,&c);\n",
        "\n",
        "    // Copy result back to host\n",
        "    cudaMemcpy(&c, d_c, sizeof(int), cudaMemcpyDeviceToHost);\n",
        "\n",
        "    printf(\"Result: %d\\n\", c);\n",
        "\n",
        "    cudaFree(d_a);\n",
        "    cudaFree(d_b);\n",
        "    cudaFree(d_c);\n",
        "\n",
        "    return 0;\n",
        "}"
      ],
      "metadata": {
        "colab": {
          "base_uri": "https://localhost:8080/"
        },
        "id": "ovVsZgjhS0Hj",
        "outputId": "d2cbf212-a765-44d5-95d5-7f4dd5fa8c7c"
      },
      "execution_count": 21,
      "outputs": [
        {
          "output_type": "stream",
          "name": "stdout",
          "text": [
            "Overwriting hello_cuda.cu\n"
          ]
        }
      ]
    },
    {
      "cell_type": "code",
      "source": [
        "!nvcc hello_cuda.cu -o hello_cuda"
      ],
      "metadata": {
        "id": "qmiGdCv6TvOo"
      },
      "execution_count": 22,
      "outputs": []
    },
    {
      "cell_type": "code",
      "source": [
        "!./hello_cuda"
      ],
      "metadata": {
        "colab": {
          "base_uri": "https://localhost:8080/"
        },
        "id": "m8wefer-T7Ki",
        "outputId": "77e869cf-529b-439d-c267-36a7a9a2bc1d"
      },
      "execution_count": 23,
      "outputs": [
        {
          "output_type": "stream",
          "name": "stdout",
          "text": [
            "Result: 0\n"
          ]
        }
      ]
    },
    {
      "cell_type": "code",
      "source": [],
      "metadata": {
        "id": "RtAI7lrRUPoP"
      },
      "execution_count": null,
      "outputs": []
    }
  ]
}